{
 "cells": [
  {
   "cell_type": "markdown",
   "id": "75b64b63-03c3-43ed-9e5f-fa7c9dd9533e",
   "metadata": {
    "tags": []
   },
   "source": [
    "# Question - 01"
   ]
  },
  {
   "cell_type": "code",
   "execution_count": null,
   "id": "43f498eb-569a-4e25-a9a3-1a39305d8df0",
   "metadata": {},
   "outputs": [],
   "source": [
    "var = 1, 2, 3, 'abc', 1.5, 2.0, (1, 2, 3), [1, 2 ,3]"
   ]
  },
  {
   "cell_type": "code",
   "execution_count": null,
   "id": "cdadb2dc-abb9-426d-98e9-5c3349836010",
   "metadata": {},
   "outputs": [],
   "source": []
  },
  {
   "cell_type": "markdown",
   "id": "7c392cc3-3b43-458e-bf28-0c3f00c3ae9e",
   "metadata": {},
   "source": [
    "# Question - 02"
   ]
  },
  {
   "cell_type": "code",
   "execution_count": null,
   "id": "4ddb9f9b-2c73-4f1c-b8b4-dd348601db84",
   "metadata": {},
   "outputs": [],
   "source": [
    "var1 = ''\n",
    "var2 = '[DS, ML, Python]'\n",
    "var3 = ['DS', 'ML', 'Python']\n",
    "var4 = 1."
   ]
  },
  {
   "cell_type": "code",
   "execution_count": null,
   "id": "27db1547-22c5-4179-98bb-2cdffc9a3912",
   "metadata": {},
   "outputs": [],
   "source": [
    "D_type_var1 = type(var1)\n",
    "D_type_var2 = type(var2)\n",
    "D_type_var3 = type(var3)\n",
    "D_type_var4 = type(var4)"
   ]
  },
  {
   "cell_type": "code",
   "execution_count": null,
   "id": "953895d7-8618-4a14-bdaf-aa8cde62b936",
   "metadata": {},
   "outputs": [],
   "source": []
  },
  {
   "cell_type": "markdown",
   "id": "7f1dfa1a-fbdc-4a0d-a3d6-d75e66c91c1a",
   "metadata": {},
   "source": [
    "# Question - 03"
   ]
  },
  {
   "cell_type": "code",
   "execution_count": null,
   "id": "f2d00d4a-dfce-43c4-ae77-bb2f476c9586",
   "metadata": {},
   "outputs": [],
   "source": [
    "a = 5\n",
    "b = 3"
   ]
  },
  {
   "cell_type": "code",
   "execution_count": null,
   "id": "d1dcdb4b-3f0f-4667-885a-9ed7a03154ac",
   "metadata": {},
   "outputs": [],
   "source": [
    "c = a/b\n",
    "d = a%b\n",
    "e = a//b\n",
    "f = a**b"
   ]
  },
  {
   "cell_type": "code",
   "execution_count": null,
   "id": "1761baaa-f740-44ff-9fe2-cafa8dc8e00e",
   "metadata": {},
   "outputs": [],
   "source": [
    "print(c, d, e, f)"
   ]
  },
  {
   "cell_type": "code",
   "execution_count": null,
   "id": "1541b169-353f-475e-a7e0-bc8d6cfb6d15",
   "metadata": {},
   "outputs": [],
   "source": []
  },
  {
   "cell_type": "markdown",
   "id": "84049a9f-c650-4cf4-903d-fc3466e123ea",
   "metadata": {},
   "source": [
    "# Question - 04"
   ]
  },
  {
   "cell_type": "code",
   "execution_count": null,
   "id": "283974ca-bc11-4148-b355-6721c3207bca",
   "metadata": {},
   "outputs": [],
   "source": [
    "M = [1, 2, 3, [1, 2, 3], (4, 5), 'DS', 'ML', 3.4, 3.0, 8.9]"
   ]
  },
  {
   "cell_type": "code",
   "execution_count": null,
   "id": "223b17fb-b73d-4044-b991-f97bccbc0580",
   "metadata": {},
   "outputs": [],
   "source": [
    "length = len(M)"
   ]
  },
  {
   "cell_type": "code",
   "execution_count": null,
   "id": "b6264a45-81e0-4fbb-8b85-e6b6c3bcc72d",
   "metadata": {},
   "outputs": [],
   "source": [
    "for i in M:\n",
    "    x = type(i)\n",
    "    print('{} is {} type'.format (i, x))\n"
   ]
  },
  {
   "cell_type": "code",
   "execution_count": null,
   "id": "7bd1c421-2430-454b-bc4e-2791ba05cd3c",
   "metadata": {},
   "outputs": [],
   "source": []
  },
  {
   "cell_type": "markdown",
   "id": "ec381f08-1e37-4774-ae10-49b449c8eca0",
   "metadata": {},
   "source": [
    "# Question - 05"
   ]
  },
  {
   "cell_type": "code",
   "execution_count": 38,
   "id": "87844dd5-28a8-4ab1-b2f7-44c3b4eb088f",
   "metadata": {},
   "outputs": [],
   "source": [
    "a = 500\n",
    "b = 5\n",
    "c = 0"
   ]
  },
  {
   "cell_type": "code",
   "execution_count": 44,
   "id": "9c4ef7e2-5266-4149-ae10-7bf8d2af7a29",
   "metadata": {},
   "outputs": [],
   "source": [
    "while a%b == 0:\n",
    "    a /=b \n",
    "    c = c + 1"
   ]
  },
  {
   "cell_type": "code",
   "execution_count": null,
   "id": "7e36025c-5386-4eaa-bf90-904d264dfa4d",
   "metadata": {},
   "outputs": [],
   "source": []
  },
  {
   "cell_type": "markdown",
   "id": "8fca9ed1-924f-4607-b711-d47a120ea48f",
   "metadata": {},
   "source": [
    "# Question - 06"
   ]
  },
  {
   "cell_type": "code",
   "execution_count": 45,
   "id": "81518005-b197-4cea-b2e2-08ed9496ae3b",
   "metadata": {},
   "outputs": [],
   "source": [
    "List = list(range(1,26))"
   ]
  },
  {
   "cell_type": "code",
   "execution_count": null,
   "id": "9f4e505a-08fb-4ed4-92c0-e5c4e4c3578f",
   "metadata": {},
   "outputs": [],
   "source": [
    "for i in List:\n",
    "    if (i%3 == 0):\n",
    "        print('{} is divisible by 3'.format(i))   \n",
    "    else:\n",
    "        print('{} is not divisible by 3'.format(i))"
   ]
  },
  {
   "cell_type": "code",
   "execution_count": null,
   "id": "e5de9121-5b28-477a-8158-615b18262797",
   "metadata": {},
   "outputs": [],
   "source": []
  },
  {
   "cell_type": "markdown",
   "id": "734876c9-81e8-48e8-993d-a802f74e8373",
   "metadata": {},
   "source": [
    "# Question - 07"
   ]
  },
  {
   "cell_type": "markdown",
   "id": "8f0e0b09-f967-473a-88a2-f2c8a3acc8b1",
   "metadata": {},
   "source": [
    "\"\"\"Mutability of data types means that those data elements can be replaced by similar other data, \n",
    "however, on the other hand, immutable data types can not be replaced by similar data. For example, tuples and \n",
    "strings are immutable, but lists, dictionaries and sets are mutable.\"\"\""
   ]
  },
  {
   "cell_type": "code",
   "execution_count": 3,
   "id": "2a30640b-00df-4317-bf23-13927d6f7043",
   "metadata": {},
   "outputs": [],
   "source": [
    "List = [2, 3, 'DS', 4.4]"
   ]
  },
  {
   "cell_type": "code",
   "execution_count": null,
   "id": "6a0b58af-af4a-4926-9c89-9fc92436176d",
   "metadata": {},
   "outputs": [],
   "source": [
    "List[2]"
   ]
  },
  {
   "cell_type": "code",
   "execution_count": 6,
   "id": "6d5b0e71-7741-4328-bb8c-54d62aa64520",
   "metadata": {},
   "outputs": [],
   "source": [
    "List[2] = 'ML'"
   ]
  },
  {
   "cell_type": "code",
   "execution_count": null,
   "id": "8656300b-b3ac-4039-8cb1-cbc56adea705",
   "metadata": {},
   "outputs": [],
   "source": [
    "List[2]"
   ]
  },
  {
   "cell_type": "code",
   "execution_count": 36,
   "id": "61a5abb4-44ab-4b1f-a22d-fe422f3ac4c0",
   "metadata": {},
   "outputs": [],
   "source": []
  },
  {
   "cell_type": "code",
   "execution_count": 30,
   "id": "03ce7492-1a64-4be6-b18a-9e4520ed0756",
   "metadata": {},
   "outputs": [],
   "source": [
    "numbers = {1: \"One\", 2: \"Two\", 3: \"Three\", 'k': 3}"
   ]
  },
  {
   "cell_type": "code",
   "execution_count": 21,
   "id": "5dc90663-cd67-4ee2-be5a-3b0f15c06a85",
   "metadata": {},
   "outputs": [],
   "source": [
    "Dict = {'b': \"bulb\", \"e\": \"essential\", \"n_dict\":{'r':'red', 't':'true'}}"
   ]
  },
  {
   "cell_type": "code",
   "execution_count": 39,
   "id": "d0c504dc-6ff5-46cf-8743-e348985166e2",
   "metadata": {},
   "outputs": [
    {
     "name": "stdout",
     "output_type": "stream",
     "text": [
      "b : light\n",
      "e : essential\n",
      "n_dict : {'r': 'red', 't': 'true'}\n"
     ]
    }
   ],
   "source": [
    "for i in Dict:\n",
    "    print(i, ':', Dict[i])"
   ]
  },
  {
   "cell_type": "code",
   "execution_count": 27,
   "id": "9899895a-5391-42ec-9486-b5faabf2fa2e",
   "metadata": {},
   "outputs": [],
   "source": [
    "Dict['b'] = 'light'"
   ]
  },
  {
   "cell_type": "code",
   "execution_count": 28,
   "id": "26c19e46-a889-4425-bb3b-aff56ca9dda2",
   "metadata": {},
   "outputs": [
    {
     "data": {
      "text/plain": [
       "'light'"
      ]
     },
     "execution_count": 28,
     "metadata": {},
     "output_type": "execute_result"
    }
   ],
   "source": [
    "Dict['b']"
   ]
  },
  {
   "cell_type": "code",
   "execution_count": 29,
   "id": "b3fcd9d5-3723-4d3f-bee3-a4860c22d33b",
   "metadata": {},
   "outputs": [
    {
     "data": {
      "text/plain": [
       "{'b': 'light', 'e': 'essential', 'n_dict': {'r': 'red', 't': 'true'}}"
      ]
     },
     "execution_count": 29,
     "metadata": {},
     "output_type": "execute_result"
    }
   ],
   "source": [
    "Dict"
   ]
  },
  {
   "cell_type": "code",
   "execution_count": 40,
   "id": "823cd92f-3c91-47b2-9416-6483a396cbb1",
   "metadata": {},
   "outputs": [],
   "source": [
    "tpl = (1, 2, 3, [3, 44, 33], 'ilius')"
   ]
  },
  {
   "cell_type": "code",
   "execution_count": null,
   "id": "0c3c4f03-8267-4f1a-9108-99e203eff788",
   "metadata": {},
   "outputs": [],
   "source": []
  },
  {
   "cell_type": "code",
   "execution_count": 48,
   "id": "48b93d4a-95be-4e81-a796-fb5f61be92ab",
   "metadata": {},
   "outputs": [],
   "source": [
    "Py_Set = {2, 'pathan', 4, 4, 2, 8, 5, 10, 1}"
   ]
  },
  {
   "cell_type": "code",
   "execution_count": null,
   "id": "e877e2f8-cce8-446d-97c9-a7f96009ba4c",
   "metadata": {},
   "outputs": [],
   "source": [
    "Py_Set"
   ]
  },
  {
   "cell_type": "code",
   "execution_count": null,
   "id": "d6caa7a3-6a13-41c1-a942-c6f02a7fb7bf",
   "metadata": {},
   "outputs": [],
   "source": []
  }
 ],
 "metadata": {
  "kernelspec": {
   "display_name": "Python 3 (ipykernel)",
   "language": "python",
   "name": "python3"
  },
  "language_info": {
   "codemirror_mode": {
    "name": "ipython",
    "version": 3
   },
   "file_extension": ".py",
   "mimetype": "text/x-python",
   "name": "python",
   "nbconvert_exporter": "python",
   "pygments_lexer": "ipython3",
   "version": "3.10.9"
  }
 },
 "nbformat": 4,
 "nbformat_minor": 5
}
