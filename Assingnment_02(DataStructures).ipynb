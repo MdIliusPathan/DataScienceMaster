{
 "cells": [
  {
   "cell_type": "markdown",
   "id": "46638a18-9218-45ca-beb6-aaddb6076a0b",
   "metadata": {},
   "source": [
    "# Question - 01 #"
   ]
  },
  {
   "cell_type": "markdown",
   "id": "ca05166d-b233-4f52-8ec8-fbae5ba8c9f9",
   "metadata": {},
   "source": [
    "Using hass in both sides, comments are done in python. Again, one, two and three inverted comma are used in both sides for commenting in python"
   ]
  },
  {
   "cell_type": "markdown",
   "id": "b8ad57d8-4773-4cc1-aae8-2f2bbf470351",
   "metadata": {},
   "source": [
    "# Question - 02 #"
   ]
  },
  {
   "cell_type": "markdown",
   "id": "dd1916d8-c647-47b5-92ba-5a682b11d05e",
   "metadata": {},
   "source": [
    "any alphabet can be used in python as variable except epecial caracter and number in starting of the variables."
   ]
  },
  {
   "cell_type": "markdown",
   "id": "1d0f4cac-5f40-4378-8cc1-a5eda3c4a8c8",
   "metadata": {},
   "source": [
    "\"Examples\""
   ]
  },
  {
   "cell_type": "code",
   "execution_count": 3,
   "id": "52feba5a-0af4-4aca-9770-d1c13dae769e",
   "metadata": {},
   "outputs": [],
   "source": [
    "a = 20\n",
    "b = \"abc\"\n",
    "c = [1, 2, 3, 'abc', (4, 5)]"
   ]
  },
  {
   "cell_type": "markdown",
   "id": "64462819-35b1-4626-b9ac-91f7747f49a4",
   "metadata": {},
   "source": [
    "# Question - 03 #"
   ]
  },
  {
   "cell_type": "code",
   "execution_count": 6,
   "id": "f71465aa-09c4-4fc7-bd70-ad1b7b7e5498",
   "metadata": {},
   "outputs": [
    {
     "data": {
      "text/plain": [
       "[1, 2, 4, 5, 33, 55]"
      ]
     },
     "execution_count": 6,
     "metadata": {},
     "output_type": "execute_result"
    }
   ],
   "source": [
    "lst = [1, 2, 4, 5,33, 55]\n",
    "lst"
   ]
  },
  {
   "cell_type": "code",
   "execution_count": 5,
   "id": "0180f01a-f3a4-4ebf-9649-39af10918bbd",
   "metadata": {},
   "outputs": [
    {
     "data": {
      "text/plain": [
       "(1, 2, 4, 5, 33, 55)"
      ]
     },
     "execution_count": 5,
     "metadata": {},
     "output_type": "execute_result"
    }
   ],
   "source": [
    "tpl = tuple(lst)\n",
    "tpl"
   ]
  },
  {
   "cell_type": "markdown",
   "id": "1546bd17-9cb1-44af-99b9-945346540347",
   "metadata": {},
   "source": [
    "# Question - 04 #"
   ]
  },
  {
   "cell_type": "markdown",
   "id": "ca50f863-cad3-4c96-a105-95dbdb014f6f",
   "metadata": {},
   "source": [
    "Do not get the question."
   ]
  },
  {
   "cell_type": "markdown",
   "id": "6bdbdbb7-8767-4752-bbd9-e72e712ad2ac",
   "metadata": {},
   "source": [
    "# Question - 05 #"
   ]
  },
  {
   "cell_type": "code",
   "execution_count": 8,
   "id": "c6871c52-2875-4c18-b3aa-3c4601396677",
   "metadata": {},
   "outputs": [],
   "source": [
    "my_list = [1, 2, 3, 4, 5]"
   ]
  },
  {
   "cell_type": "code",
   "execution_count": 18,
   "id": "06195712-dcce-4729-99c6-d66a59819841",
   "metadata": {},
   "outputs": [],
   "source": [
    "sub_list = []"
   ]
  },
  {
   "cell_type": "code",
   "execution_count": 20,
   "id": "4eef98c7-8039-4087-b237-76e564166052",
   "metadata": {},
   "outputs": [
    {
     "data": {
      "text/plain": [
       "[2, 3]"
      ]
     },
     "execution_count": 20,
     "metadata": {},
     "output_type": "execute_result"
    }
   ],
   "source": [
    "for i in my_list:\n",
    "    if i>=2 and i<=3:\n",
    "        sub_list.append(i)\n",
    "    else:\n",
    "        pass\n",
    "    \n",
    "sub_list"
   ]
  },
  {
   "cell_type": "code",
   "execution_count": null,
   "id": "040043da-3cdb-4750-a5b2-8ae80472be12",
   "metadata": {},
   "outputs": [],
   "source": []
  },
  {
   "cell_type": "markdown",
   "id": "c00b9b10-542f-4f26-a34f-5471d2f61fe1",
   "metadata": {},
   "source": [
    "# Question - 06 #"
   ]
  },
  {
   "cell_type": "markdown",
   "id": "a50ee99f-4db5-4027-9a16-617387411ee4",
   "metadata": {},
   "source": [
    "Complex number is the combination of real and imginary numbers."
   ]
  },
  {
   "cell_type": "code",
   "execution_count": 2,
   "id": "6eb0c815-88aa-40d4-9cc1-b3e27272cd45",
   "metadata": {},
   "outputs": [],
   "source": [
    "Cplex_number = 3 + 4j"
   ]
  },
  {
   "cell_type": "markdown",
   "id": "488b1228-ee12-4ab7-989b-d10f734cb9c9",
   "metadata": {},
   "source": [
    "# Question - 07 #"
   ]
  },
  {
   "cell_type": "code",
   "execution_count": 7,
   "id": "12b64f55-0916-420d-a1b7-da259ab63708",
   "metadata": {},
   "outputs": [],
   "source": [
    "age = []"
   ]
  },
  {
   "cell_type": "code",
   "execution_count": 8,
   "id": "f1a6487b-03f0-4258-a303-cb24515a1579",
   "metadata": {},
   "outputs": [
    {
     "data": {
      "text/plain": [
       "list"
      ]
     },
     "execution_count": 8,
     "metadata": {},
     "output_type": "execute_result"
    }
   ],
   "source": [
    "type(age)"
   ]
  },
  {
   "cell_type": "code",
   "execution_count": 4,
   "id": "8321256e-4b13-49ea-a948-d8df1406f8da",
   "metadata": {},
   "outputs": [],
   "source": [
    "age = 25"
   ]
  },
  {
   "cell_type": "code",
   "execution_count": 5,
   "id": "6acc75bb-edff-48a3-8731-fb77ca8c5acd",
   "metadata": {},
   "outputs": [
    {
     "data": {
      "text/plain": [
       "int"
      ]
     },
     "execution_count": 5,
     "metadata": {},
     "output_type": "execute_result"
    }
   ],
   "source": [
    "type(age)"
   ]
  },
  {
   "cell_type": "markdown",
   "id": "bca33c8a-8ff6-4019-a9f5-d7ca09f37d6b",
   "metadata": {},
   "source": [
    "# Question - 08 #"
   ]
  },
  {
   "cell_type": "code",
   "execution_count": 9,
   "id": "ade3590b-3f31-4320-9324-59e176d46c8f",
   "metadata": {},
   "outputs": [],
   "source": [
    "price = 9.99"
   ]
  },
  {
   "cell_type": "code",
   "execution_count": 10,
   "id": "2397c7d6-21ee-43eb-a8ce-80b3435a6f24",
   "metadata": {},
   "outputs": [
    {
     "data": {
      "text/plain": [
       "float"
      ]
     },
     "execution_count": 10,
     "metadata": {},
     "output_type": "execute_result"
    }
   ],
   "source": [
    "type(price)"
   ]
  },
  {
   "cell_type": "markdown",
   "id": "adcbdcec-30c2-42f0-8db7-541a1fabb8a1",
   "metadata": {},
   "source": [
    "# Question - 09 #"
   ]
  },
  {
   "cell_type": "code",
   "execution_count": 18,
   "id": "f1ec237a-e136-4500-8deb-95c8b4c4b548",
   "metadata": {},
   "outputs": [],
   "source": [
    "Name = \"Md Ilius Hasan Pathan\""
   ]
  },
  {
   "cell_type": "code",
   "execution_count": 12,
   "id": "658e975f-c731-42f6-863b-10d8edaca85f",
   "metadata": {},
   "outputs": [
    {
     "name": "stdout",
     "output_type": "stream",
     "text": [
      "My name is: Md Ilius Hasan Pathan\n"
     ]
    }
   ],
   "source": [
    "print(f'My name is: {Name}')"
   ]
  },
  {
   "cell_type": "code",
   "execution_count": 14,
   "id": "5c3db08d-b818-4819-a87f-34c400f91295",
   "metadata": {},
   "outputs": [
    {
     "name": "stdout",
     "output_type": "stream",
     "text": [
      "My name is: Md Ilius Hasan Pathan\n"
     ]
    }
   ],
   "source": [
    "print('My name is:', Name)"
   ]
  },
  {
   "cell_type": "code",
   "execution_count": 20,
   "id": "de8f18e2-8671-421e-9a67-316c4c75a5bb",
   "metadata": {},
   "outputs": [
    {
     "name": "stdout",
     "output_type": "stream",
     "text": [
      "My name is: Md Ilius Hasan Pathan\n"
     ]
    }
   ],
   "source": [
    "print('My name is: {}'.format(Name))"
   ]
  },
  {
   "cell_type": "markdown",
   "id": "cbc6f60f-2ce7-4594-b157-75a0524da8ee",
   "metadata": {},
   "source": [
    "# Question - 10 #"
   ]
  },
  {
   "cell_type": "code",
   "execution_count": 67,
   "id": "bdcef9b8-9811-4358-b813-e825d6ead7c9",
   "metadata": {},
   "outputs": [
    {
     "data": {
      "text/plain": [
       "'Hello, World'"
      ]
     },
     "execution_count": 67,
     "metadata": {},
     "output_type": "execute_result"
    }
   ],
   "source": [
    "String1 = \"Hello, World\"\n",
    "String1"
   ]
  },
  {
   "cell_type": "code",
   "execution_count": 68,
   "id": "62701e86-483a-4c8f-97c6-bf7b9bee470a",
   "metadata": {},
   "outputs": [
    {
     "data": {
      "text/plain": [
       "['Hello', 'World']"
      ]
     },
     "execution_count": 68,
     "metadata": {},
     "output_type": "execute_result"
    }
   ],
   "source": [
    "String2 = String1.split(\", \")\n",
    "String2"
   ]
  },
  {
   "cell_type": "code",
   "execution_count": 69,
   "id": "0345867b-2be8-43ec-a97e-f5c16012b060",
   "metadata": {},
   "outputs": [
    {
     "data": {
      "text/plain": [
       "'World'"
      ]
     },
     "execution_count": 69,
     "metadata": {},
     "output_type": "execute_result"
    }
   ],
   "source": [
    "String3 = String2.pop()\n",
    "String3"
   ]
  },
  {
   "cell_type": "markdown",
   "id": "e6cc3eec-02ca-48a5-85bd-628e00f4cbb8",
   "metadata": {},
   "source": [
    "# Question - 11 #"
   ]
  },
  {
   "cell_type": "markdown",
   "id": "54180511-4792-4c77-a82c-1dbd3a6f439d",
   "metadata": {},
   "source": [
    "\"\" Although I am supposed to be unclear the question, I submitted an answer. In case of incompleteness, \n",
    "   if you inform me and clarify the question, I can resubmit the question again\"\""
   ]
  },
  {
   "cell_type": "code",
   "execution_count": 73,
   "id": "5365bd3d-7607-469b-9fc8-7fb44f0ec92a",
   "metadata": {},
   "outputs": [],
   "source": [
    "is_student = [0, 1]"
   ]
  },
  {
   "cell_type": "code",
   "execution_count": 74,
   "id": "f097992a-aed7-4d30-8bdc-b958fae392e5",
   "metadata": {},
   "outputs": [
    {
     "data": {
      "text/plain": [
       "list"
      ]
     },
     "execution_count": 74,
     "metadata": {},
     "output_type": "execute_result"
    }
   ],
   "source": [
    "type(is_student)"
   ]
  },
  {
   "cell_type": "code",
   "execution_count": 82,
   "id": "dce1d9e6-30c7-4729-a814-4c2485779dbb",
   "metadata": {},
   "outputs": [
    {
     "name": "stdout",
     "output_type": "stream",
     "text": [
      "I am not a student\n",
      "I am a student\n"
     ]
    }
   ],
   "source": [
    "for i in is_student:\n",
    "    if i == 0:\n",
    "        print('I am not a student')\n",
    "    else:\n",
    "        print('I am a student')"
   ]
  },
  {
   "cell_type": "code",
   "execution_count": null,
   "id": "8a926f52-5694-4578-b88a-e2e97428e9ed",
   "metadata": {},
   "outputs": [],
   "source": []
  },
  {
   "cell_type": "code",
   "execution_count": null,
   "id": "34c8453b-4070-4aa4-83f1-fa805ea4961a",
   "metadata": {},
   "outputs": [],
   "source": []
  }
 ],
 "metadata": {
  "kernelspec": {
   "display_name": "Python 3 (ipykernel)",
   "language": "python",
   "name": "python3"
  },
  "language_info": {
   "codemirror_mode": {
    "name": "ipython",
    "version": 3
   },
   "file_extension": ".py",
   "mimetype": "text/x-python",
   "name": "python",
   "nbconvert_exporter": "python",
   "pygments_lexer": "ipython3",
   "version": "3.10.9"
  }
 },
 "nbformat": 4,
 "nbformat_minor": 5
}
