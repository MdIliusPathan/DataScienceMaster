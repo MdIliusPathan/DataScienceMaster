{
 "cells": [
  {
   "cell_type": "markdown",
   "id": "fe60dc01-66bd-4959-9f30-eb4daf4e4d47",
   "metadata": {},
   "source": [
    "# Question - 01 #"
   ]
  },
  {
   "cell_type": "code",
   "execution_count": 1,
   "id": "c9913473-7ce9-440d-9f11-1ff9b1bcbba7",
   "metadata": {},
   "outputs": [],
   "source": [
    "Original_tpl = [('Sachin Tendulkar', 34357), ('Ricky Ponting', 27483), ('Jack Kallis', 25534), ('Virat Kohli', 24936)]"
   ]
  },
  {
   "cell_type": "code",
   "execution_count": 2,
   "id": "c5e3f077-c26d-46d8-b127-d9b324f713bf",
   "metadata": {},
   "outputs": [
    {
     "name": "stdout",
     "output_type": "stream",
     "text": [
      "List of original tuples:\n",
      "[('Sachin Tendulkar', 34357), ('Ricky Ponting', 27483), ('Jack Kallis', 25534), ('Virat Kohli', 24936)] \n",
      "\n"
     ]
    }
   ],
   "source": [
    "print(\"List of original tuples:\")\n",
    "print(Original_tpl, '\\n')"
   ]
  },
  {
   "cell_type": "code",
   "execution_count": 3,
   "id": "badda48a-5753-40b0-890b-1413235fc923",
   "metadata": {},
   "outputs": [],
   "source": [
    "Original_tpl.sort(key = lambda tpl: tpl[1])"
   ]
  },
  {
   "cell_type": "code",
   "execution_count": 4,
   "id": "c0aae676-b1b4-47d8-866e-99a33b80c123",
   "metadata": {},
   "outputs": [
    {
     "name": "stdout",
     "output_type": "stream",
     "text": [
      "List of Sorted tuple:\n",
      "[('Virat Kohli', 24936), ('Jack Kallis', 25534), ('Ricky Ponting', 27483), ('Sachin Tendulkar', 34357)]\n"
     ]
    }
   ],
   "source": [
    "print('List of Sorted tuple:')\n",
    "print(Original_tpl)"
   ]
  },
  {
   "cell_type": "code",
   "execution_count": null,
   "id": "0d69315d-5c56-4960-9d72-903a86fa4f86",
   "metadata": {},
   "outputs": [],
   "source": []
  },
  {
   "cell_type": "code",
   "execution_count": 5,
   "id": "280c3225-0cd0-4b7a-8b4c-d44f3ba66083",
   "metadata": {},
   "outputs": [
    {
     "data": {
      "text/plain": [
       "24936"
      ]
     },
     "execution_count": 5,
     "metadata": {},
     "output_type": "execute_result"
    }
   ],
   "source": [
    "Original_tpl[0][1]"
   ]
  },
  {
   "cell_type": "code",
   "execution_count": null,
   "id": "bf83dd1d-4ebc-4c43-9087-4548534ee834",
   "metadata": {},
   "outputs": [],
   "source": []
  },
  {
   "cell_type": "code",
   "execution_count": 6,
   "id": "a6ec37b3-5662-4182-af56-4710d4ed31c8",
   "metadata": {},
   "outputs": [
    {
     "name": "stdout",
     "output_type": "stream",
     "text": [
      "[('Jack Kallis', 25534), ('Ricky Ponting', 27483), ('Sachin Tendulkar', 34357), ('Virat Kohli', 24936)]\n"
     ]
    }
   ],
   "source": [
    "Original_tpl.sort(key = lambda tpl: tpl[0])\n",
    "print(Original_tpl)"
   ]
  },
  {
   "cell_type": "markdown",
   "id": "0b765920-5e4d-4179-be57-1730bc6d6848",
   "metadata": {},
   "source": [
    "# Question - 02 #"
   ]
  },
  {
   "cell_type": "code",
   "execution_count": 7,
   "id": "6719ddb9-a30e-4e45-9124-f0ab6dd99976",
   "metadata": {},
   "outputs": [],
   "source": [
    "lst = [1, 2, 3, 4, 5, 6, 7, 8, 9, 10, 11]"
   ]
  },
  {
   "cell_type": "code",
   "execution_count": 8,
   "id": "bf70b155-55a4-44ba-aaf1-81a4ec6a15bf",
   "metadata": {},
   "outputs": [],
   "source": [
    "f = lambda x: x**2"
   ]
  },
  {
   "cell_type": "code",
   "execution_count": 9,
   "id": "73791612-1dda-47e3-91bb-2413d48bd474",
   "metadata": {},
   "outputs": [
    {
     "name": "stdout",
     "output_type": "stream",
     "text": [
      "[1, 4, 9, 16, 25, 36, 49, 64, 81, 100, 121]\n"
     ]
    }
   ],
   "source": [
    "Sq_lst = list(map(f, lst))\n",
    "print(Sq_lst)"
   ]
  },
  {
   "cell_type": "code",
   "execution_count": 10,
   "id": "1e0ee825-3586-452d-9ceb-e1b9223d914e",
   "metadata": {},
   "outputs": [
    {
     "data": {
      "text/plain": [
       "(1, 4, 9, 16, 25, 36, 49, 64, 81, 100, 121)"
      ]
     },
     "execution_count": 10,
     "metadata": {},
     "output_type": "execute_result"
    }
   ],
   "source": [
    "tuple(Sq_lst)"
   ]
  },
  {
   "cell_type": "code",
   "execution_count": 11,
   "id": "2b774c0a-60fd-444c-8947-8caa551cbe9e",
   "metadata": {},
   "outputs": [],
   "source": [
    "Sq_lst = (map(f, lst))"
   ]
  },
  {
   "cell_type": "code",
   "execution_count": 12,
   "id": "984f4f4e-5bc4-4d20-8535-bf60baaa985d",
   "metadata": {},
   "outputs": [
    {
     "data": {
      "text/plain": [
       "(1, 4, 9, 16, 25, 36, 49, 64, 81, 100, 121)"
      ]
     },
     "execution_count": 12,
     "metadata": {},
     "output_type": "execute_result"
    }
   ],
   "source": [
    "tuple(Sq_lst)"
   ]
  },
  {
   "cell_type": "code",
   "execution_count": 13,
   "id": "751f4af4-c9ef-496c-9f55-4a31ad1477eb",
   "metadata": {},
   "outputs": [],
   "source": [
    "Square_numbers = map(lambda x: x*x, lst)"
   ]
  },
  {
   "cell_type": "code",
   "execution_count": 14,
   "id": "2349bbd2-ca93-4cfd-ab43-b432ef55ae4c",
   "metadata": {},
   "outputs": [
    {
     "data": {
      "text/plain": [
       "[1, 4, 9, 16, 25, 36, 49, 64, 81, 100, 121]"
      ]
     },
     "execution_count": 14,
     "metadata": {},
     "output_type": "execute_result"
    }
   ],
   "source": [
    "Square_numbers = list(map(lambda x: x*x, lst))\n",
    "Square_numbers"
   ]
  },
  {
   "cell_type": "code",
   "execution_count": null,
   "id": "a021687f-e535-476b-9e63-6ee12ea92d2f",
   "metadata": {},
   "outputs": [],
   "source": []
  },
  {
   "cell_type": "markdown",
   "id": "8f27f53b-7eb2-4418-b149-8f2953d1382e",
   "metadata": {},
   "source": [
    "# Question - 03 # "
   ]
  },
  {
   "cell_type": "code",
   "execution_count": 15,
   "id": "5394d6e4-0d29-4550-a9fd-44d312d951c4",
   "metadata": {},
   "outputs": [],
   "source": [
    "lst1 = [1, 2, 3, 4, 5, 6, 7, 8, 9, 10]"
   ]
  },
  {
   "cell_type": "code",
   "execution_count": 16,
   "id": "77b49981-d053-435b-8689-5d9493be50a7",
   "metadata": {},
   "outputs": [],
   "source": [
    "f1 = lambda x: str(x)"
   ]
  },
  {
   "cell_type": "code",
   "execution_count": 17,
   "id": "2ec1202f-3b10-4b31-b051-e341b96e51d5",
   "metadata": {},
   "outputs": [
    {
     "data": {
      "text/plain": [
       "('1', '2', '3', '4', '5', '6', '7', '8', '9', '10')"
      ]
     },
     "execution_count": 17,
     "metadata": {},
     "output_type": "execute_result"
    }
   ],
   "source": [
    "tpl1 = tuple(map(f1, lst1))\n",
    "tpl1"
   ]
  },
  {
   "cell_type": "markdown",
   "id": "cb8cb60e-e7c7-4107-861d-2656df3f25ce",
   "metadata": {},
   "source": [
    "# Question - 04 #"
   ]
  },
  {
   "cell_type": "code",
   "execution_count": 18,
   "id": "2a882de0-727a-4a4c-a936-0490ebc732c9",
   "metadata": {},
   "outputs": [],
   "source": [
    "import operator\n",
    "import functools\n",
    "import math"
   ]
  },
  {
   "cell_type": "code",
   "execution_count": 19,
   "id": "7c419267-292d-4ede-a3a1-91146339efea",
   "metadata": {},
   "outputs": [],
   "source": [
    "f = []\n",
    "for i in range(1,26):\n",
    "    f.append(i)"
   ]
  },
  {
   "cell_type": "code",
   "execution_count": 20,
   "id": "c001d4a9-f686-43b6-b956-bd0411860d85",
   "metadata": {},
   "outputs": [],
   "source": [
    "def product(a,b):\n",
    "    c = a*b\n",
    "    return c"
   ]
  },
  {
   "cell_type": "code",
   "execution_count": 21,
   "id": "cf513024-8cca-4665-bccf-02d6695f65f7",
   "metadata": {},
   "outputs": [
    {
     "name": "stdout",
     "output_type": "stream",
     "text": [
      "15511210043330985984000000\n"
     ]
    }
   ],
   "source": [
    "total_product_value = functools.reduce(lambda a,b: a*b, f)\n",
    "print(total_product_value)"
   ]
  },
  {
   "cell_type": "code",
   "execution_count": 22,
   "id": "02b72b4b-b88b-4c76-b014-caaf4322097e",
   "metadata": {},
   "outputs": [],
   "source": [
    "from functools import reduce"
   ]
  },
  {
   "cell_type": "code",
   "execution_count": 23,
   "id": "90a50f1a-77c9-4a4b-b5a1-a3f2c320c563",
   "metadata": {},
   "outputs": [
    {
     "name": "stdout",
     "output_type": "stream",
     "text": [
      "15511210043330985984000000\n"
     ]
    }
   ],
   "source": [
    "total_product_value = reduce(lambda a,b: a*b, f)\n",
    "print(total_product_value)"
   ]
  },
  {
   "cell_type": "markdown",
   "id": "a60ed940-1273-4479-bbeb-d9fa6579bc29",
   "metadata": {},
   "source": [
    "# Question - 05 #"
   ]
  },
  {
   "cell_type": "code",
   "execution_count": 24,
   "id": "3860d1a6-28a5-45c8-a69c-f2994eaa6895",
   "metadata": {},
   "outputs": [],
   "source": [
    "list_Number = [2, 3, 6, 9, 31, 35, 41, 49, 27, 60, 90, 120, 55, 46]"
   ]
  },
  {
   "cell_type": "code",
   "execution_count": 25,
   "id": "127cfd7e-3036-4e78-a824-4e38cfd4924b",
   "metadata": {},
   "outputs": [],
   "source": [
    "def abc(a):\n",
    "    if a%2 == 0 or a%3 == 0:\n",
    "        return a"
   ]
  },
  {
   "cell_type": "code",
   "execution_count": 26,
   "id": "05c50849-fe91-48fb-a221-5e09070ad4a9",
   "metadata": {},
   "outputs": [
    {
     "name": "stdout",
     "output_type": "stream",
     "text": [
      "2\n",
      "3\n",
      "6\n",
      "9\n",
      "27\n",
      "60\n",
      "90\n",
      "120\n",
      "46\n"
     ]
    }
   ],
   "source": [
    "Output = filter(abc, list_Number)\n",
    "for s in Output:\n",
    "    print(s)"
   ]
  },
  {
   "cell_type": "code",
   "execution_count": null,
   "id": "e4f84709-81c7-4af3-930a-f5fcdbdbbf75",
   "metadata": {},
   "outputs": [],
   "source": []
  },
  {
   "cell_type": "markdown",
   "id": "046c223e-2a23-414f-8d1d-a569d54ae323",
   "metadata": {},
   "source": [
    "## \"\" Extra Practice \"\" ##"
   ]
  },
  {
   "cell_type": "code",
   "execution_count": 27,
   "id": "4f3a8d42-19ef-44ad-b267-6ecc61b27261",
   "metadata": {},
   "outputs": [],
   "source": [
    "def maximum(a,b):\n",
    "    return (a if a>b else b)"
   ]
  },
  {
   "cell_type": "code",
   "execution_count": 28,
   "id": "10c07c27-fa54-4216-b9ae-e4b5e0b0a294",
   "metadata": {},
   "outputs": [
    {
     "name": "stdout",
     "output_type": "stream",
     "text": [
      "25\n"
     ]
    }
   ],
   "source": [
    "Max_Value = reduce(maximum, f)\n",
    "print(Max_Value)"
   ]
  },
  {
   "cell_type": "code",
   "execution_count": 29,
   "id": "115074cc-3f55-4187-a852-45cc38607ec9",
   "metadata": {},
   "outputs": [
    {
     "name": "stdout",
     "output_type": "stream",
     "text": [
      "25\n"
     ]
    }
   ],
   "source": [
    "Max_Value = functools.reduce(lambda a,b: a if a>b else b, f)\n",
    "print(Max_Value)"
   ]
  },
  {
   "cell_type": "code",
   "execution_count": 30,
   "id": "d6b43aa0-eb89-482b-9256-20836d4ed94f",
   "metadata": {},
   "outputs": [
    {
     "data": {
      "text/plain": [
       "3"
      ]
     },
     "execution_count": 30,
     "metadata": {},
     "output_type": "execute_result"
    }
   ],
   "source": [
    "maximum(2,3)"
   ]
  },
  {
   "cell_type": "code",
   "execution_count": 31,
   "id": "1d5bd296-9959-4d7a-bb11-3b01c70ad2bd",
   "metadata": {},
   "outputs": [
    {
     "data": {
      "text/plain": [
       "1"
      ]
     },
     "execution_count": 31,
     "metadata": {},
     "output_type": "execute_result"
    }
   ],
   "source": [
    "min(3,4,2,5,1)"
   ]
  },
  {
   "cell_type": "code",
   "execution_count": 32,
   "id": "c9d7379f-5668-4af1-961b-59ce1e4248c0",
   "metadata": {},
   "outputs": [
    {
     "data": {
      "text/plain": [
       "5"
      ]
     },
     "execution_count": 32,
     "metadata": {},
     "output_type": "execute_result"
    }
   ],
   "source": [
    "max(3,4,5)"
   ]
  },
  {
   "cell_type": "markdown",
   "id": "1eff0131-234e-471e-8a2b-692fab560f64",
   "metadata": {},
   "source": [
    "### \"\" End of Extra\"\" ###"
   ]
  },
  {
   "cell_type": "code",
   "execution_count": null,
   "id": "fe4702ef-b263-4af6-a02b-8a878ff88284",
   "metadata": {},
   "outputs": [],
   "source": []
  },
  {
   "cell_type": "code",
   "execution_count": null,
   "id": "9c6fbced-ccea-4aa1-b6e5-6c1fc147ef6a",
   "metadata": {},
   "outputs": [],
   "source": []
  },
  {
   "cell_type": "code",
   "execution_count": null,
   "id": "7633f8c1-0feb-4738-9a2d-5e923ff70371",
   "metadata": {},
   "outputs": [],
   "source": []
  },
  {
   "cell_type": "code",
   "execution_count": null,
   "id": "4b86ba31-9900-4850-a36e-b6d552eef982",
   "metadata": {},
   "outputs": [],
   "source": []
  },
  {
   "cell_type": "markdown",
   "id": "e8cb5de5-ad03-4687-8d82-898cd63c0683",
   "metadata": {},
   "source": [
    "# Question - 06 #"
   ]
  },
  {
   "cell_type": "code",
   "execution_count": 33,
   "id": "2b942460-39f8-4183-8589-35cdff1768a2",
   "metadata": {},
   "outputs": [],
   "source": [
    "String_list = ['python', 'php', 'aba', 'radar', 'level']"
   ]
  },
  {
   "cell_type": "code",
   "execution_count": 34,
   "id": "b2db64dc-e81a-4c4f-b5fc-64c2f17ae987",
   "metadata": {},
   "outputs": [
    {
     "name": "stdout",
     "output_type": "stream",
     "text": [
      "Orginal list of strings:\n",
      "['python', 'php', 'aba', 'radar', 'level'] \n",
      "\n",
      "\n",
      "List of Palindromes:\n",
      "['php', 'aba', 'radar', 'level']\n"
     ]
    }
   ],
   "source": [
    "print(\"Orginal list of strings:\")\n",
    "print(String_list, '\\n') \n",
    "Result = list(filter(lambda x: (x == \"\".join(reversed(x))), String_list)) \n",
    "print(\"\\nList of Palindromes:\")\n",
    "print(Result)"
   ]
  },
  {
   "cell_type": "code",
   "execution_count": null,
   "id": "67807d37-5c7c-48af-b31b-6906d68cdaf0",
   "metadata": {},
   "outputs": [],
   "source": []
  },
  {
   "cell_type": "markdown",
   "id": "b69b2130-a740-4989-8316-996aa271b790",
   "metadata": {},
   "source": [
    "## Using Normal for Loop ##"
   ]
  },
  {
   "cell_type": "code",
   "execution_count": null,
   "id": "ece89b40-008f-4b6b-9ea1-eb9b52b9e5c3",
   "metadata": {},
   "outputs": [],
   "source": []
  },
  {
   "cell_type": "code",
   "execution_count": null,
   "id": "cfbe0608-86e5-4510-a83f-6d39c21804c5",
   "metadata": {},
   "outputs": [],
   "source": []
  },
  {
   "cell_type": "code",
   "execution_count": null,
   "id": "d88cfa8a-a5d1-4135-ac32-8e983bf50a05",
   "metadata": {},
   "outputs": [],
   "source": []
  },
  {
   "cell_type": "code",
   "execution_count": null,
   "id": "9419ef74-ff45-40a9-b267-6ef0e90751bc",
   "metadata": {},
   "outputs": [],
   "source": []
  },
  {
   "cell_type": "code",
   "execution_count": null,
   "id": "0372472d-61ad-4c6b-9d22-25636f1608c6",
   "metadata": {},
   "outputs": [],
   "source": []
  },
  {
   "cell_type": "code",
   "execution_count": 35,
   "id": "e4b4c4f5-a8da-4d0c-8fdc-91860e0076a6",
   "metadata": {},
   "outputs": [],
   "source": [
    "numbers = [1, 2, 3, 4, 5, 6, 7, 8, 9, 10, 11, 12, 13, 15, 16, 117]"
   ]
  },
  {
   "cell_type": "code",
   "execution_count": 36,
   "id": "47648f99-43e0-425d-9f0b-2adad6a632d8",
   "metadata": {},
   "outputs": [],
   "source": [
    "def is_odd(num):\n",
    "    if (num % 2) != 0:\n",
    "        return True\n",
    "    else:\n",
    "        return False"
   ]
  },
  {
   "cell_type": "code",
   "execution_count": 37,
   "id": "b0423eac-2e6a-4680-8fce-0b4d8fbbd27a",
   "metadata": {},
   "outputs": [],
   "source": [
    "def is_odd(num):\n",
    "    if (num % 2) != 0:\n",
    "        return True"
   ]
  },
  {
   "cell_type": "code",
   "execution_count": 38,
   "id": "e1ad851e-1972-4329-a5a8-0c0e55be4dac",
   "metadata": {},
   "outputs": [],
   "source": [
    "is_odd(6)"
   ]
  },
  {
   "cell_type": "code",
   "execution_count": 39,
   "id": "8ce9f729-82c3-4894-a018-a4c321d59a8a",
   "metadata": {},
   "outputs": [
    {
     "name": "stdout",
     "output_type": "stream",
     "text": [
      "[1, 3, 5, 7, 9, 11, 13, 15, 117]\n"
     ]
    }
   ],
   "source": [
    "results = filter(is_odd, numbers)\n",
    "print(list(results))"
   ]
  },
  {
   "cell_type": "code",
   "execution_count": null,
   "id": "9e453efd-8378-446c-a30b-028f5675929b",
   "metadata": {},
   "outputs": [],
   "source": []
  },
  {
   "cell_type": "code",
   "execution_count": null,
   "id": "d7ac8938-a060-495c-a7ad-8c790afa7a11",
   "metadata": {},
   "outputs": [],
   "source": []
  },
  {
   "cell_type": "code",
   "execution_count": null,
   "id": "474b510d-8de0-4668-8199-1f6738df5373",
   "metadata": {},
   "outputs": [],
   "source": []
  }
 ],
 "metadata": {
  "kernelspec": {
   "display_name": "Python 3 (ipykernel)",
   "language": "python",
   "name": "python3"
  },
  "language_info": {
   "codemirror_mode": {
    "name": "ipython",
    "version": 3
   },
   "file_extension": ".py",
   "mimetype": "text/x-python",
   "name": "python",
   "nbconvert_exporter": "python",
   "pygments_lexer": "ipython3",
   "version": "3.10.9"
  }
 },
 "nbformat": 4,
 "nbformat_minor": 5
}
