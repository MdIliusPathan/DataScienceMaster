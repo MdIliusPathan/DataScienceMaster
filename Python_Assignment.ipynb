{
 "cells": [
  {
   "cell_type": "markdown",
   "id": "171e081a-f36c-4292-9837-7886d93d6f79",
   "metadata": {},
   "source": [
    "# Question - 01 #"
   ]
  },
  {
   "cell_type": "markdown",
   "id": "b4ebbdff-51f6-4108-abb9-1aeb384e340b",
   "metadata": {},
   "source": [
    "\"def\" keyward is used to create function."
   ]
  },
  {
   "cell_type": "code",
   "execution_count": 1,
   "id": "d6020da8-0dac-4fcc-a2b8-b69effded101",
   "metadata": {},
   "outputs": [],
   "source": [
    "def odd_numbers(x):\n",
    "    Odd_Numbers = []\n",
    "    for i in x: \n",
    "        if i%2 != 0:\n",
    "            Odd_Numbers.append(i)\n",
    "    return Odd_Numbers\n",
    "        "
   ]
  },
  {
   "cell_type": "code",
   "execution_count": 2,
   "id": "562c8a54-9f7c-4cdc-a1b2-597a988e28be",
   "metadata": {},
   "outputs": [],
   "source": [
    "def odd(x):\n",
    "    Odd_Numbers = [i for i in x if i%2 != 0]\n",
    "    return Odd_Numbers"
   ]
  },
  {
   "cell_type": "code",
   "execution_count": 3,
   "id": "fc0b3780-6132-478f-bdbe-7586c257f583",
   "metadata": {},
   "outputs": [
    {
     "data": {
      "text/plain": [
       "[1, 3, 5, 7, 9, 11, 13, 15, 17, 19, 21, 23]"
      ]
     },
     "execution_count": 3,
     "metadata": {},
     "output_type": "execute_result"
    }
   ],
   "source": [
    "odd_numbers(range(1,25))"
   ]
  },
  {
   "cell_type": "code",
   "execution_count": 4,
   "id": "e516bd9b-db8b-489b-b767-f295bbc3d17e",
   "metadata": {},
   "outputs": [
    {
     "data": {
      "text/plain": [
       "[1, 3, 5, 7, 9, 11, 13, 15, 17, 19, 21, 23]"
      ]
     },
     "execution_count": 4,
     "metadata": {},
     "output_type": "execute_result"
    }
   ],
   "source": [
    "odd(range(1,25))"
   ]
  },
  {
   "cell_type": "code",
   "execution_count": null,
   "id": "f5cd8062-10ba-43d9-8fa1-6bc326bda8f6",
   "metadata": {},
   "outputs": [],
   "source": []
  },
  {
   "cell_type": "markdown",
   "id": "01d47947-cd36-4725-a5a7-70aa936b3876",
   "metadata": {},
   "source": [
    "# Question - 02 #"
   ]
  },
  {
   "cell_type": "markdown",
   "id": "31358306-226c-4891-b411-02174fa49066",
   "metadata": {},
   "source": [
    "\"\"*args and **kwargs are used in Python function for taking unlimited \n",
    "numbers of inputs in different types and dictionary input respecctively.\"\""
   ]
  },
  {
   "cell_type": "code",
   "execution_count": 5,
   "id": "2a8f500e-5ee4-441d-9912-4ddfc63dfeef",
   "metadata": {},
   "outputs": [],
   "source": [
    "def test(*x, y):\n",
    "    z = []\n",
    "    for i in x:\n",
    "        if i%y != 0:\n",
    "            z.append(i)\n",
    "    return z"
   ]
  },
  {
   "cell_type": "code",
   "execution_count": 6,
   "id": "679edf11-9db2-43aa-893a-985ca7c6a0ce",
   "metadata": {},
   "outputs": [
    {
     "data": {
      "text/plain": [
       "[1, 2, 4, 5]"
      ]
     },
     "execution_count": 6,
     "metadata": {},
     "output_type": "execute_result"
    }
   ],
   "source": [
    "test(1,2,3,4,5,6, y=3)"
   ]
  },
  {
   "cell_type": "code",
   "execution_count": 7,
   "id": "0a39ca79-8fc6-4657-8f0f-3fa962843d70",
   "metadata": {},
   "outputs": [],
   "source": [
    "def test1(**x):\n",
    "    yy = x.values()\n",
    "    yyy = x.keys()\n",
    "    return yyy, yy\n"
   ]
  },
  {
   "cell_type": "code",
   "execution_count": 8,
   "id": "0c801cc2-9afa-4cf6-8e50-ee63fba02d3c",
   "metadata": {},
   "outputs": [
    {
     "data": {
      "text/plain": [
       "(dict_keys(['one', 'two', 'abc']), dict_values([1, 2, 3]))"
      ]
     },
     "execution_count": 8,
     "metadata": {},
     "output_type": "execute_result"
    }
   ],
   "source": [
    "test1(one = 1, two=2, abc=3)"
   ]
  },
  {
   "cell_type": "code",
   "execution_count": 9,
   "id": "91b4db15-1e92-44f0-8d76-3d01860c041e",
   "metadata": {},
   "outputs": [
    {
     "data": {
      "text/plain": [
       "(dict_keys(['a', 'b', 'c', 'd', 'e']),\n",
       " dict_values([5, 4, ['abc3', 2, 3, 4], {1: 'one', 2: 'two', 'three': 3}, (3, 4, 5, 44, 5)]))"
      ]
     },
     "execution_count": 9,
     "metadata": {},
     "output_type": "execute_result"
    }
   ],
   "source": [
    "test1(a=5, b=4, c = [\"abc3\", 2,3,4], d= {1:'one', 2:'two', \"three\":3}, e=(3, 4, 5,44, 5))"
   ]
  },
  {
   "cell_type": "code",
   "execution_count": null,
   "id": "dbec2d4f-edd7-4524-94d7-26b0e4e9daf2",
   "metadata": {},
   "outputs": [],
   "source": []
  },
  {
   "cell_type": "markdown",
   "id": "fadc2895-22fe-40c9-9312-846f167902f5",
   "metadata": {},
   "source": [
    "# Question - 03 #"
   ]
  },
  {
   "cell_type": "markdown",
   "id": "1d2cbf9a-3edd-4e72-ad2a-4b059b1a49f1",
   "metadata": {},
   "source": [
    "Iterator is an object or function that can iterate or repetitive work \n",
    "over a collection of data, such a tuples, lists, dictionary etc. map, \n",
    "reduce, filter are the itertor or iterator functions "
   ]
  },
  {
   "cell_type": "code",
   "execution_count": 10,
   "id": "6ca101de-abe2-42d3-ab68-59ed1e884a76",
   "metadata": {},
   "outputs": [],
   "source": [
    "lst = [2, 4, 6, 8, 10, 12, 14, 16, 18, 20]"
   ]
  },
  {
   "cell_type": "code",
   "execution_count": 11,
   "id": "0a45b581-7254-4d41-9955-c07e5feb5b4f",
   "metadata": {},
   "outputs": [
    {
     "data": {
      "text/plain": [
       "10"
      ]
     },
     "execution_count": 11,
     "metadata": {},
     "output_type": "execute_result"
    }
   ],
   "source": [
    "len(lst)"
   ]
  },
  {
   "cell_type": "code",
   "execution_count": 12,
   "id": "41d53e36-1dfe-4c92-a0c4-85f1452e7ce0",
   "metadata": {},
   "outputs": [],
   "source": [
    "def test(x):\n",
    "    lst1 = []\n",
    "    for i in lst:\n",
    "        lst1.append(i)\n",
    "        if len(lst1)>=5:\n",
    "            break\n",
    "    return lst1\n",
    "        "
   ]
  },
  {
   "cell_type": "code",
   "execution_count": 13,
   "id": "8a2c28bf-5493-44e6-a597-7e64ff062912",
   "metadata": {},
   "outputs": [
    {
     "data": {
      "text/plain": [
       "[2, 4, 6, 8, 10]"
      ]
     },
     "execution_count": 13,
     "metadata": {},
     "output_type": "execute_result"
    }
   ],
   "source": [
    "list(filter(lambda x:x<12,lst))"
   ]
  },
  {
   "cell_type": "code",
   "execution_count": null,
   "id": "e589983c-8029-4cc2-83b4-9149c870deda",
   "metadata": {},
   "outputs": [],
   "source": []
  },
  {
   "cell_type": "markdown",
   "id": "60c348a4-8e0c-41c2-b0d1-db39c4a3dd53",
   "metadata": {},
   "source": [
    "# Question - 04 #"
   ]
  },
  {
   "cell_type": "code",
   "execution_count": null,
   "id": "862d0908-f145-44b2-bfcc-a794451bf696",
   "metadata": {},
   "outputs": [],
   "source": []
  },
  {
   "cell_type": "markdown",
   "id": "d728810f-4a43-4cf7-a1fd-00081cd352b5",
   "metadata": {},
   "source": [
    "Generator function actually generate and object that does not memorize all possible generated values, rather generates values one by one when it is called for any iterations. Example: range is a generator function. yield is used for creating a generator function."
   ]
  },
  {
   "cell_type": "code",
   "execution_count": null,
   "id": "1dd74d6a-3181-4180-831e-1b944b642f72",
   "metadata": {},
   "outputs": [],
   "source": []
  },
  {
   "cell_type": "markdown",
   "id": "55a92a71-0555-4925-b307-c2252dbad0df",
   "metadata": {},
   "source": [
    "# Question - 05 #"
   ]
  },
  {
   "cell_type": "code",
   "execution_count": 14,
   "id": "8aced8d4-9754-4d11-b8d7-012ec1c162b1",
   "metadata": {},
   "outputs": [],
   "source": [
    "def generator_func(y):\n",
    "    prime_number = []\n",
    "    for x in range(y):\n",
    "        \n",
    "        if x==3 or x==2:\n",
    "            prime_number.append(x)\n",
    "            \n",
    "        elif ((x-1)%6 == 0 or (x+1)%6 == 0) and 8>x>3:\n",
    "                prime_number.append(x)\n",
    "                \n",
    "        else:\n",
    "            if (x>7 and ((x-1)%6 == 0 or (x+1)%6 == 0)) and x%5 != 0:\n",
    "                if (x>7 and ((x-1)%6 == 0 or (x+1)%6 == 0)) and x%7 != 0:\n",
    "                    prime_number.append(x)\n",
    "        \n",
    "    yield prime_number\n",
    "        "
   ]
  },
  {
   "cell_type": "code",
   "execution_count": 15,
   "id": "b7a95fc2-8d7c-4fe5-9c9a-074b5074c06b",
   "metadata": {},
   "outputs": [],
   "source": [
    "def generator_func(y):\n",
    "    prime_number = []\n",
    "    for x in range(y):\n",
    "        \n",
    "        if x==3 or x==2:\n",
    "            prime_number.append(x)\n",
    "            \n",
    "        elif ((x-1)%6 == 0 or (x+1)%6 == 0) and 8>x>3:\n",
    "                prime_number.append(x)\n",
    "                \n",
    "        else:\n",
    "            if (x>7 and ((x-1)%6 == 0 or (x+1)%6 == 0)) and x%7 != 0:\n",
    "                if (x>7 and ((x-1)%6 == 0 or (x+1)%6 == 0)) and x%5 != 0:\n",
    "                    prime_number.append(x)\n",
    "        \n",
    "    yield prime_number\n",
    "        "
   ]
  },
  {
   "cell_type": "code",
   "execution_count": 16,
   "id": "86a6ec30-2fbb-4da5-bda1-d3048e1d4aaa",
   "metadata": {},
   "outputs": [
    {
     "data": {
      "text/plain": [
       "[[2, 3, 5, 7, 11, 13, 17, 19, 23, 29, 31, 37, 41, 43, 47]]"
      ]
     },
     "execution_count": 16,
     "metadata": {},
     "output_type": "execute_result"
    }
   ],
   "source": [
    "val= []\n",
    "for j in generator_func(50):\n",
    "    val.append(j)\n",
    "val"
   ]
  },
  {
   "cell_type": "code",
   "execution_count": 17,
   "id": "98362d90-404f-4c12-ba9a-182304ce6e5d",
   "metadata": {},
   "outputs": [
    {
     "data": {
      "text/plain": [
       "1"
      ]
     },
     "execution_count": 17,
     "metadata": {},
     "output_type": "execute_result"
    }
   ],
   "source": [
    "len(val)"
   ]
  },
  {
   "cell_type": "code",
   "execution_count": null,
   "id": "9fdc0b0c-d556-4c1f-a703-f2ac1d9e8fcb",
   "metadata": {},
   "outputs": [],
   "source": []
  },
  {
   "cell_type": "code",
   "execution_count": 18,
   "id": "8b1a645e-c313-4815-9f1d-dda8128018b4",
   "metadata": {},
   "outputs": [
    {
     "data": {
      "text/plain": [
       "[2, 3, 5, 7]"
      ]
     },
     "execution_count": 18,
     "metadata": {},
     "output_type": "execute_result"
    }
   ],
   "source": [
    "next(generator_func(10))"
   ]
  },
  {
   "cell_type": "code",
   "execution_count": 19,
   "id": "6cb4d88c-b28d-45fc-a836-67465fd98a1a",
   "metadata": {},
   "outputs": [
    {
     "name": "stdout",
     "output_type": "stream",
     "text": [
      "[2, 3, 5, 7, 11, 13]\n"
     ]
    }
   ],
   "source": [
    "for i in generator_func(15):\n",
    "    print(i)\n",
    " "
   ]
  },
  {
   "cell_type": "code",
   "execution_count": 20,
   "id": "6f07fa66-31b1-4158-be43-1073a4781f83",
   "metadata": {},
   "outputs": [
    {
     "data": {
      "text/plain": [
       "6"
      ]
     },
     "execution_count": 20,
     "metadata": {},
     "output_type": "execute_result"
    }
   ],
   "source": [
    "len(i)"
   ]
  },
  {
   "cell_type": "code",
   "execution_count": null,
   "id": "a3f4ef8c-1355-4cb9-8ef2-b438c86057b7",
   "metadata": {},
   "outputs": [],
   "source": []
  },
  {
   "cell_type": "code",
   "execution_count": 21,
   "id": "75f8fc83-52d5-45e7-8c75-40543a8ffa6a",
   "metadata": {},
   "outputs": [],
   "source": [
    "y = next(generator_func(100))\n",
    "yy=[]\n",
    "for i in y:\n",
    "    if len(yy) == 20:\n",
    "        break\n",
    "    else:\n",
    "        yy.append(i)\n",
    "    "
   ]
  },
  {
   "cell_type": "code",
   "execution_count": 22,
   "id": "1790782e-22b6-4e6e-a691-6dc23eac40b3",
   "metadata": {},
   "outputs": [
    {
     "data": {
      "text/plain": [
       "[2, 3, 5, 7, 11, 13, 17, 19, 23, 29, 31, 37, 41, 43, 47, 53, 59, 61, 67, 71]"
      ]
     },
     "execution_count": 22,
     "metadata": {},
     "output_type": "execute_result"
    }
   ],
   "source": [
    "yy"
   ]
  },
  {
   "cell_type": "code",
   "execution_count": 23,
   "id": "1ff7d974-1c62-4148-b8c1-33f451d83ea0",
   "metadata": {},
   "outputs": [
    {
     "data": {
      "text/plain": [
       "20"
      ]
     },
     "execution_count": 23,
     "metadata": {},
     "output_type": "execute_result"
    }
   ],
   "source": [
    "len(yy)"
   ]
  },
  {
   "cell_type": "code",
   "execution_count": null,
   "id": "21dc5158-c6b0-4e34-b128-96fd04c1ff78",
   "metadata": {},
   "outputs": [],
   "source": []
  },
  {
   "cell_type": "code",
   "execution_count": 24,
   "id": "515d3322-1d1d-45b2-925c-0869e6c55244",
   "metadata": {},
   "outputs": [
    {
     "name": "stdout",
     "output_type": "stream",
     "text": [
      "[Using next()]The contents of list are:\n",
      "1 2 3 4 5 end\n"
     ]
    }
   ],
   "source": [
    "l = [1, 2, 3, 4, 5]\n",
    " \n",
    "# Creating iterator from list\n",
    "l_iter = iter(l)\n",
    " \n",
    "print(\"[Using next()]The contents of list are:\")\n",
    " \n",
    "# Iterating using next()\n",
    "\n",
    "while (1):\n",
    "    val = next(l_iter, 'end')\n",
    "    if val == 'end':\n",
    "        print('end')\n",
    "        break\n",
    "    else:\n",
    "        print(val, end=\" \")\n",
    "    "
   ]
  },
  {
   "cell_type": "code",
   "execution_count": 25,
   "id": "d49e50c8-2217-4222-bf92-0dbd6f907521",
   "metadata": {},
   "outputs": [
    {
     "data": {
      "text/plain": [
       "<list_iterator at 0x22af19b1060>"
      ]
     },
     "execution_count": 25,
     "metadata": {},
     "output_type": "execute_result"
    }
   ],
   "source": [
    "l_iter = iter(l)\n",
    "l_iter\n"
   ]
  },
  {
   "cell_type": "code",
   "execution_count": 26,
   "id": "0b487fe3-45fa-4216-93ec-89cb0897efcd",
   "metadata": {},
   "outputs": [
    {
     "name": "stdout",
     "output_type": "stream",
     "text": [
      "<list_iterator object at 0x0000022AF19B1060>\n"
     ]
    }
   ],
   "source": [
    "print(l_iter)"
   ]
  },
  {
   "cell_type": "code",
   "execution_count": 27,
   "id": "0f2a9cd3-c823-43bf-97e4-08766bc5e027",
   "metadata": {},
   "outputs": [
    {
     "data": {
      "text/plain": [
       "1"
      ]
     },
     "execution_count": 27,
     "metadata": {},
     "output_type": "execute_result"
    }
   ],
   "source": [
    "next(l_iter)"
   ]
  },
  {
   "cell_type": "code",
   "execution_count": null,
   "id": "9c3a036d-882b-4d25-bcb9-7fa2886c5e6f",
   "metadata": {},
   "outputs": [],
   "source": []
  }
 ],
 "metadata": {
  "kernelspec": {
   "display_name": "Python 3 (ipykernel)",
   "language": "python",
   "name": "python3"
  },
  "language_info": {
   "codemirror_mode": {
    "name": "ipython",
    "version": 3
   },
   "file_extension": ".py",
   "mimetype": "text/x-python",
   "name": "python",
   "nbconvert_exporter": "python",
   "pygments_lexer": "ipython3",
   "version": "3.10.9"
  }
 },
 "nbformat": 4,
 "nbformat_minor": 5
}
